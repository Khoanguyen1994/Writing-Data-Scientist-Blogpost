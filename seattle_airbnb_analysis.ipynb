{
 "cells": [
  {
   "attachments": {},
   "cell_type": "markdown",
   "metadata": {},
   "source": [
    "With the help of the CRISP-six DM's phases, we will take a quick look at the Airbnb activities in Seattle in this project.\n",
    "1. Business understanding\n",
    "2. Data understanding\n",
    "3. Preparing data\n",
    "4. Modeling data\n",
    "5. Results evaluation\n",
    "6. Deployment"
   ]
  },
  {
   "cell_type": "markdown",
   "metadata": {},
   "source": [
    "# Business Understanding"
   ]
  },
  {
   "cell_type": "markdown",
   "metadata": {},
   "source": [
    "## What is Airbnb ?"
   ]
  },
  {
   "attachments": {},
   "cell_type": "markdown",
   "metadata": {},
   "source": [
    "The term \"Air Bed and Breakfast\" (also known as Airbnb) refers to a service that enables property owners to let out their spaces to tourists searching for a place to stay. Since its founding in 2008, Airbnb has significantly advanced the tourism sector. Based on a peer-to-peer business model, Airbnb enables users to leverage consumer data to tailor and personalize the experience of their visitors. Thus, the rapid development of data analytics is necessary to address a variety of problems from both hosts and passengers."
   ]
  },
  {
   "cell_type": "markdown",
   "metadata": {},
   "source": [
    "## What are the questions to answer in this project ?"
   ]
  },
  {
   "attachments": {},
   "cell_type": "markdown",
   "metadata": {},
   "source": [
    "The following questions will be addressed in this notebook using the Kaggle Seattle Airbnb Open Data:\n",
    "1. What are the most frequent host confirmations in the listings?\n",
    "2. What characteristics of various kinds draw visitors to book a homestay?\n",
    "3. What factors have the biggest impact on the cost of homestays in Seattle?"
   ]
  },
  {
   "cell_type": "markdown",
   "metadata": {},
   "source": [
    "## Import Required Libraries"
   ]
  },
  {
   "cell_type": "code",
   "execution_count": 1,
   "metadata": {},
   "outputs": [],
   "source": [
    "import numpy as np\n",
    "import pandas as pd\n",
    "import matplotlib.pyplot as plt\n",
    "import seaborn as sns\n",
    "from collections import defaultdict\n",
    "from sklearn.linear_model import LinearRegression\n",
    "from sklearn.model_selection import train_test_split\n",
    "from sklearn.metrics import r2_score\n",
    "import ast\n",
    "import re\n",
    "%matplotlib inline"
   ]
  },
  {
   "cell_type": "markdown",
   "metadata": {},
   "source": [
    "# Data Understanding"
   ]
  },
  {
   "cell_type": "markdown",
   "metadata": {},
   "source": [
    "## Gather Data"
   ]
  },
  {
   "attachments": {},
   "cell_type": "markdown",
   "metadata": {},
   "source": [
    "We will begin by importing the given listings dataset:\n",
    "- listings.csv: full descriptions, host information and average review score of all the Airbnb in Seattle"
   ]
  },
  {
   "cell_type": "code",
   "execution_count": 2,
   "metadata": {},
   "outputs": [
    {
     "name": "stdout",
     "output_type": "stream",
     "text": [
      "Shape:  (3818, 92)\n"
     ]
    },
    {
     "data": {
      "text/html": [
       "<div>\n",
       "<style scoped>\n",
       "    .dataframe tbody tr th:only-of-type {\n",
       "        vertical-align: middle;\n",
       "    }\n",
       "\n",
       "    .dataframe tbody tr th {\n",
       "        vertical-align: top;\n",
       "    }\n",
       "\n",
       "    .dataframe thead th {\n",
       "        text-align: right;\n",
       "    }\n",
       "</style>\n",
       "<table border=\"1\" class=\"dataframe\">\n",
       "  <thead>\n",
       "    <tr style=\"text-align: right;\">\n",
       "      <th></th>\n",
       "      <th>id</th>\n",
       "      <th>listing_url</th>\n",
       "      <th>scrape_id</th>\n",
       "      <th>last_scraped</th>\n",
       "      <th>name</th>\n",
       "      <th>summary</th>\n",
       "      <th>space</th>\n",
       "      <th>description</th>\n",
       "      <th>experiences_offered</th>\n",
       "      <th>neighborhood_overview</th>\n",
       "      <th>...</th>\n",
       "      <th>review_scores_value</th>\n",
       "      <th>requires_license</th>\n",
       "      <th>license</th>\n",
       "      <th>jurisdiction_names</th>\n",
       "      <th>instant_bookable</th>\n",
       "      <th>cancellation_policy</th>\n",
       "      <th>require_guest_profile_picture</th>\n",
       "      <th>require_guest_phone_verification</th>\n",
       "      <th>calculated_host_listings_count</th>\n",
       "      <th>reviews_per_month</th>\n",
       "    </tr>\n",
       "  </thead>\n",
       "  <tbody>\n",
       "    <tr>\n",
       "      <th>0</th>\n",
       "      <td>241032</td>\n",
       "      <td>https://www.airbnb.com/rooms/241032</td>\n",
       "      <td>20160104002432</td>\n",
       "      <td>2016-01-04</td>\n",
       "      <td>Stylish Queen Anne Apartment</td>\n",
       "      <td>NaN</td>\n",
       "      <td>Make your self at home in this charming one-be...</td>\n",
       "      <td>Make your self at home in this charming one-be...</td>\n",
       "      <td>none</td>\n",
       "      <td>NaN</td>\n",
       "      <td>...</td>\n",
       "      <td>10.0</td>\n",
       "      <td>f</td>\n",
       "      <td>NaN</td>\n",
       "      <td>WASHINGTON</td>\n",
       "      <td>f</td>\n",
       "      <td>moderate</td>\n",
       "      <td>f</td>\n",
       "      <td>f</td>\n",
       "      <td>2</td>\n",
       "      <td>4.07</td>\n",
       "    </tr>\n",
       "    <tr>\n",
       "      <th>1</th>\n",
       "      <td>953595</td>\n",
       "      <td>https://www.airbnb.com/rooms/953595</td>\n",
       "      <td>20160104002432</td>\n",
       "      <td>2016-01-04</td>\n",
       "      <td>Bright &amp; Airy Queen Anne Apartment</td>\n",
       "      <td>Chemically sensitive? We've removed the irrita...</td>\n",
       "      <td>Beautiful, hypoallergenic apartment in an extr...</td>\n",
       "      <td>Chemically sensitive? We've removed the irrita...</td>\n",
       "      <td>none</td>\n",
       "      <td>Queen Anne is a wonderful, truly functional vi...</td>\n",
       "      <td>...</td>\n",
       "      <td>10.0</td>\n",
       "      <td>f</td>\n",
       "      <td>NaN</td>\n",
       "      <td>WASHINGTON</td>\n",
       "      <td>f</td>\n",
       "      <td>strict</td>\n",
       "      <td>t</td>\n",
       "      <td>t</td>\n",
       "      <td>6</td>\n",
       "      <td>1.48</td>\n",
       "    </tr>\n",
       "    <tr>\n",
       "      <th>2</th>\n",
       "      <td>3308979</td>\n",
       "      <td>https://www.airbnb.com/rooms/3308979</td>\n",
       "      <td>20160104002432</td>\n",
       "      <td>2016-01-04</td>\n",
       "      <td>New Modern House-Amazing water view</td>\n",
       "      <td>New modern house built in 2013.  Spectacular s...</td>\n",
       "      <td>Our house is modern, light and fresh with a wa...</td>\n",
       "      <td>New modern house built in 2013.  Spectacular s...</td>\n",
       "      <td>none</td>\n",
       "      <td>Upper Queen Anne is a charming neighborhood fu...</td>\n",
       "      <td>...</td>\n",
       "      <td>10.0</td>\n",
       "      <td>f</td>\n",
       "      <td>NaN</td>\n",
       "      <td>WASHINGTON</td>\n",
       "      <td>f</td>\n",
       "      <td>strict</td>\n",
       "      <td>f</td>\n",
       "      <td>f</td>\n",
       "      <td>2</td>\n",
       "      <td>1.15</td>\n",
       "    </tr>\n",
       "    <tr>\n",
       "      <th>3</th>\n",
       "      <td>7421966</td>\n",
       "      <td>https://www.airbnb.com/rooms/7421966</td>\n",
       "      <td>20160104002432</td>\n",
       "      <td>2016-01-04</td>\n",
       "      <td>Queen Anne Chateau</td>\n",
       "      <td>A charming apartment that sits atop Queen Anne...</td>\n",
       "      <td>NaN</td>\n",
       "      <td>A charming apartment that sits atop Queen Anne...</td>\n",
       "      <td>none</td>\n",
       "      <td>NaN</td>\n",
       "      <td>...</td>\n",
       "      <td>NaN</td>\n",
       "      <td>f</td>\n",
       "      <td>NaN</td>\n",
       "      <td>WASHINGTON</td>\n",
       "      <td>f</td>\n",
       "      <td>flexible</td>\n",
       "      <td>f</td>\n",
       "      <td>f</td>\n",
       "      <td>1</td>\n",
       "      <td>NaN</td>\n",
       "    </tr>\n",
       "    <tr>\n",
       "      <th>4</th>\n",
       "      <td>278830</td>\n",
       "      <td>https://www.airbnb.com/rooms/278830</td>\n",
       "      <td>20160104002432</td>\n",
       "      <td>2016-01-04</td>\n",
       "      <td>Charming craftsman 3 bdm house</td>\n",
       "      <td>Cozy family craftman house in beautiful neighb...</td>\n",
       "      <td>Cozy family craftman house in beautiful neighb...</td>\n",
       "      <td>Cozy family craftman house in beautiful neighb...</td>\n",
       "      <td>none</td>\n",
       "      <td>We are in the beautiful neighborhood of Queen ...</td>\n",
       "      <td>...</td>\n",
       "      <td>9.0</td>\n",
       "      <td>f</td>\n",
       "      <td>NaN</td>\n",
       "      <td>WASHINGTON</td>\n",
       "      <td>f</td>\n",
       "      <td>strict</td>\n",
       "      <td>f</td>\n",
       "      <td>f</td>\n",
       "      <td>1</td>\n",
       "      <td>0.89</td>\n",
       "    </tr>\n",
       "  </tbody>\n",
       "</table>\n",
       "<p>5 rows × 92 columns</p>\n",
       "</div>"
      ],
      "text/plain": [
       "        id                           listing_url       scrape_id last_scraped  \\\n",
       "0   241032   https://www.airbnb.com/rooms/241032  20160104002432   2016-01-04   \n",
       "1   953595   https://www.airbnb.com/rooms/953595  20160104002432   2016-01-04   \n",
       "2  3308979  https://www.airbnb.com/rooms/3308979  20160104002432   2016-01-04   \n",
       "3  7421966  https://www.airbnb.com/rooms/7421966  20160104002432   2016-01-04   \n",
       "4   278830   https://www.airbnb.com/rooms/278830  20160104002432   2016-01-04   \n",
       "\n",
       "                                  name  \\\n",
       "0         Stylish Queen Anne Apartment   \n",
       "1   Bright & Airy Queen Anne Apartment   \n",
       "2  New Modern House-Amazing water view   \n",
       "3                   Queen Anne Chateau   \n",
       "4       Charming craftsman 3 bdm house   \n",
       "\n",
       "                                             summary  \\\n",
       "0                                                NaN   \n",
       "1  Chemically sensitive? We've removed the irrita...   \n",
       "2  New modern house built in 2013.  Spectacular s...   \n",
       "3  A charming apartment that sits atop Queen Anne...   \n",
       "4  Cozy family craftman house in beautiful neighb...   \n",
       "\n",
       "                                               space  \\\n",
       "0  Make your self at home in this charming one-be...   \n",
       "1  Beautiful, hypoallergenic apartment in an extr...   \n",
       "2  Our house is modern, light and fresh with a wa...   \n",
       "3                                                NaN   \n",
       "4  Cozy family craftman house in beautiful neighb...   \n",
       "\n",
       "                                         description experiences_offered  \\\n",
       "0  Make your self at home in this charming one-be...                none   \n",
       "1  Chemically sensitive? We've removed the irrita...                none   \n",
       "2  New modern house built in 2013.  Spectacular s...                none   \n",
       "3  A charming apartment that sits atop Queen Anne...                none   \n",
       "4  Cozy family craftman house in beautiful neighb...                none   \n",
       "\n",
       "                               neighborhood_overview  ... review_scores_value  \\\n",
       "0                                                NaN  ...                10.0   \n",
       "1  Queen Anne is a wonderful, truly functional vi...  ...                10.0   \n",
       "2  Upper Queen Anne is a charming neighborhood fu...  ...                10.0   \n",
       "3                                                NaN  ...                 NaN   \n",
       "4  We are in the beautiful neighborhood of Queen ...  ...                 9.0   \n",
       "\n",
       "  requires_license license jurisdiction_names instant_bookable  \\\n",
       "0                f     NaN         WASHINGTON                f   \n",
       "1                f     NaN         WASHINGTON                f   \n",
       "2                f     NaN         WASHINGTON                f   \n",
       "3                f     NaN         WASHINGTON                f   \n",
       "4                f     NaN         WASHINGTON                f   \n",
       "\n",
       "  cancellation_policy  require_guest_profile_picture  \\\n",
       "0            moderate                              f   \n",
       "1              strict                              t   \n",
       "2              strict                              f   \n",
       "3            flexible                              f   \n",
       "4              strict                              f   \n",
       "\n",
       "  require_guest_phone_verification calculated_host_listings_count  \\\n",
       "0                                f                              2   \n",
       "1                                t                              6   \n",
       "2                                f                              2   \n",
       "3                                f                              1   \n",
       "4                                f                              1   \n",
       "\n",
       "  reviews_per_month  \n",
       "0              4.07  \n",
       "1              1.48  \n",
       "2              1.15  \n",
       "3               NaN  \n",
       "4              0.89  \n",
       "\n",
       "[5 rows x 92 columns]"
      ]
     },
     "execution_count": 2,
     "metadata": {},
     "output_type": "execute_result"
    }
   ],
   "source": [
    "# Export dataset using pandas\n",
    "df = pd.read_csv('./dataset/seattle_airbnb/listings.csv')\n",
    "\n",
    "# Print out the number of rows and columns in the dataset\n",
    "print('Shape: ', df.shape)\n",
    "\n",
    "# Print out few samples of the dataset\n",
    "df.head(5)"
   ]
  },
  {
   "cell_type": "markdown",
   "metadata": {},
   "source": [
    "We can see that there are 3818 records of 92 features in the listings dataset."
   ]
  },
  {
   "cell_type": "markdown",
   "metadata": {},
   "source": [
    "## Asses Data"
   ]
  },
  {
   "cell_type": "code",
   "execution_count": 3,
   "metadata": {},
   "outputs": [
    {
     "name": "stdout",
     "output_type": "stream",
     "text": [
      "object     62\n",
      "float64    17\n",
      "int64      13\n",
      "dtype: int64\n"
     ]
    }
   ],
   "source": [
    "# The code below displays the dataset's total number of data kinds as well as the number of each type.\n",
    "df_types = df.dtypes\n",
    "print(df_types.value_counts())"
   ]
  },
  {
   "cell_type": "markdown",
   "metadata": {},
   "source": [
    "There are 62 object features, 17 float64 features and 13 int64 features"
   ]
  },
  {
   "cell_type": "code",
   "execution_count": 4,
   "metadata": {},
   "outputs": [
    {
     "data": {
      "text/plain": [
       "license             3818\n",
       "square_feet         3721\n",
       "monthly_price       2301\n",
       "security_deposit    1952\n",
       "weekly_price        1809\n",
       "                    ... \n",
       "room_type              0\n",
       "accommodates           0\n",
       "bed_type               0\n",
       "amenities              0\n",
       "longitude              0\n",
       "Length: 92, dtype: int64"
      ]
     },
     "execution_count": 4,
     "metadata": {},
     "output_type": "execute_result"
    }
   ],
   "source": [
    "# The code below prints the dataframe's total null values for each column in decreasing order.\n",
    "df.isnull().sum().sort_values(ascending=False)"
   ]
  },
  {
   "attachments": {},
   "cell_type": "markdown",
   "metadata": {},
   "source": [
    "# **Question 1: What are the most frequent host confirmations in the listings?**\n",
    "\n",
    "When I look at the listings dataset, the host_verifications column shows me specific details about how the hosts verify their visitors. What are the most popular methods of verification accessible in the Seattle Airbnb dataset? The list of available verification techniques will be generated by the code in the cells below."
   ]
  },
  {
   "cell_type": "markdown",
   "metadata": {},
   "source": [
    "## Prepare Data"
   ]
  },
  {
   "cell_type": "code",
   "execution_count": 5,
   "metadata": {},
   "outputs": [],
   "source": [
    "host_verifications = []\n",
    "'''\n",
    "I need to combine all of these strings into a single list because the host_verifications column comprises strings of lists. \n",
    "To identify and create lists from a string of lists, I utilized the literal_eval function from the AST (Abstract Syntax Tree) \n",
    "third-party library.\n",
    "'''\n",
    "host_verifications.extend(\n",
    "    ast.literal_eval(df['host_verifications'][i]) for i in range(len(df))\n",
    ")"
   ]
  },
  {
   "cell_type": "code",
   "execution_count": 6,
   "metadata": {},
   "outputs": [],
   "source": [
    "'''\n",
    "We had a list of verification techniques listings after running the cell above.\n",
    "We now need to combine a list of lists into a single list.\n",
    "'''\n",
    "flat_host_verifications = []\n",
    "for sublist in host_verifications:\n",
    "    if sublist is None:\n",
    "        continue\n",
    "    flat_host_verifications.extend(iter(sublist))\n",
    "# Remove duplicated methods in verification lists to create list of unique verification methods\n",
    "flat_host_verifications = list(set(flat_host_verifications))"
   ]
  },
  {
   "cell_type": "markdown",
   "metadata": {},
   "source": [
    "## Analyze and Visualize Data"
   ]
  },
  {
   "cell_type": "code",
   "execution_count": 7,
   "metadata": {},
   "outputs": [],
   "source": [
    "'''\n",
    "This function was adapted from the HowToBreakIntoTheField library, \n",
    "which was made available for the Notebook + Quiz: How To Break Into the Field in the Introduction to Data Science \n",
    "in the Udacity Data Scientist Course. This function counts the number of entries in the host_verifications list that \n",
    "contain each host_verification.\n",
    "'''\n",
    "def total_count(df, col1, col2, look_for):\n",
    "    '''\n",
    "    INPUT:\n",
    "    df - the pandas dataframe we gonna search\n",
    "    col1 - the column name we will look through\n",
    "    col2 - the column we want to count values from\n",
    "    look_for - a list of strings we want to search for in each row\n",
    "\n",
    "    OUTPUT:\n",
    "    new_df - a dataframe of each look_for with the count of how frequently it shows up\n",
    "    '''\n",
    "    new_df = defaultdict(int)\n",
    "    for value in look_for:\n",
    "        for index in range(df.shape[0]):\n",
    "            if value in df[col1][index]:\n",
    "                new_df[value] += int(df[col2][index])\n",
    "    new_df = pd.DataFrame(pd.Series(new_df)).reset_index()\n",
    "    new_df.columns = [col1, col2]\n",
    "    new_df.sort_values('count', ascending=False, inplace=True)\n",
    "    return new_df"
   ]
  },
  {
   "cell_type": "code",
   "execution_count": 8,
   "metadata": {},
   "outputs": [],
   "source": [
    "'''\n",
    "In order to utilize this function appropriately for this project, \n",
    "I slightly changed it from Notebook + Quiz: How To Break Into the Field in Introduction to Datascience in Udacity Data Scientist Course.\n",
    "'''\n",
    "def clean_and_plot(df, title='Top 10 Most Popular Verification Techniques in the Dataset from the Host', plot=True):\n",
    "    '''\n",
    "    INPUT \n",
    "        df - a dataframe holding the host_verifications column\n",
    "        title - string the title of the plot\n",
    "        axis\n",
    "        plot - boolean providing whether or not we want a plot\n",
    "        \n",
    "    OUTPUT\n",
    "        verifications_df - a dataframe with the count of total individuals\n",
    "        Displays a plot of things related to the host_verifications column.\n",
    "    '''\n",
    "    # I create a dataframe named verifications, which has lists of verifications as one column and \n",
    "    # the count of these verifications lists\n",
    "    verifications = df['host_verifications'].value_counts().reset_index()\n",
    "    verifications.rename(columns={'index': 'host_verifications', 'host_verifications': 'count'}, inplace=True)\n",
    "\n",
    "    # The line of code below used total_count function to count the number of listings that contains \n",
    "    # each verification in the verifications list.\n",
    "    verifications_df = total_count(verifications, 'host_verifications', 'count', flat_host_verifications)\n",
    "\n",
    "    verifications_df.set_index('host_verifications', inplace=True)\n",
    "    if plot:\n",
    "        '''\n",
    "        To display the proportion of each verification from the most common to the least common, \n",
    "        the line of code below generates a bar chart. In order to make the plot clearer, I also raised the default figure size.\n",
    "        '''\n",
    "        (verifications_df / verifications_df.sum()).plot(kind='bar', legend=None, figsize=(12, 12))\n",
    "        plt.title(title)\n",
    "        plt.ylabel('The percent of verification methods in the listings')\n",
    "        plt.show();\n",
    "    return (verifications_df / verifications_df.sum()).reset_index()"
   ]
  },
  {
   "cell_type": "code",
   "execution_count": 9,
   "metadata": {},
   "outputs": [
    {
     "data": {
      "image/png": "[encoded data removed]",
      "text/plain": [
       "<Figure size 864x864 with 1 Axes>"
      ]
     },
     "metadata": {
      "needs_background": "light"
     },
     "output_type": "display_data"
    },
    {
     "data": {
      "text/html": [
       "<div>\n",
       "<style scoped>\n",
       "    .dataframe tbody tr th:only-of-type {\n",
       "        vertical-align: middle;\n",
       "    }\n",
       "\n",
       "    .dataframe tbody tr th {\n",
       "        vertical-align: top;\n",
       "    }\n",
       "\n",
       "    .dataframe thead th {\n",
       "        text-align: right;\n",
       "    }\n",
       "</style>\n",
       "<table border=\"1\" class=\"dataframe\">\n",
       "  <thead>\n",
       "    <tr style=\"text-align: right;\">\n",
       "      <th></th>\n",
       "      <th>host_verifications</th>\n",
       "      <th>count</th>\n",
       "    </tr>\n",
       "  </thead>\n",
       "  <tbody>\n",
       "    <tr>\n",
       "      <th>0</th>\n",
       "      <td>phone</td>\n",
       "      <td>0.212703</td>\n",
       "    </tr>\n",
       "    <tr>\n",
       "      <th>1</th>\n",
       "      <td>email</td>\n",
       "      <td>0.207934</td>\n",
       "    </tr>\n",
       "    <tr>\n",
       "      <th>2</th>\n",
       "      <td>reviews</td>\n",
       "      <td>0.199125</td>\n",
       "    </tr>\n",
       "    <tr>\n",
       "      <th>3</th>\n",
       "      <td>facebook</td>\n",
       "      <td>0.108175</td>\n",
       "    </tr>\n",
       "    <tr>\n",
       "      <th>4</th>\n",
       "      <td>kba</td>\n",
       "      <td>0.101891</td>\n",
       "    </tr>\n",
       "    <tr>\n",
       "      <th>5</th>\n",
       "      <td>jumio</td>\n",
       "      <td>0.072322</td>\n",
       "    </tr>\n",
       "    <tr>\n",
       "      <th>6</th>\n",
       "      <td>linkedin</td>\n",
       "      <td>0.049992</td>\n",
       "    </tr>\n",
       "    <tr>\n",
       "      <th>7</th>\n",
       "      <td>google</td>\n",
       "      <td>0.041800</td>\n",
       "    </tr>\n",
       "    <tr>\n",
       "      <th>8</th>\n",
       "      <td>manual_offline</td>\n",
       "      <td>0.002918</td>\n",
       "    </tr>\n",
       "    <tr>\n",
       "      <th>9</th>\n",
       "      <td>amex</td>\n",
       "      <td>0.001403</td>\n",
       "    </tr>\n",
       "    <tr>\n",
       "      <th>10</th>\n",
       "      <td>manual_online</td>\n",
       "      <td>0.000729</td>\n",
       "    </tr>\n",
       "    <tr>\n",
       "      <th>11</th>\n",
       "      <td>sent_id</td>\n",
       "      <td>0.000505</td>\n",
       "    </tr>\n",
       "    <tr>\n",
       "      <th>12</th>\n",
       "      <td>weibo</td>\n",
       "      <td>0.000281</td>\n",
       "    </tr>\n",
       "    <tr>\n",
       "      <th>13</th>\n",
       "      <td>photographer</td>\n",
       "      <td>0.000224</td>\n",
       "    </tr>\n",
       "  </tbody>\n",
       "</table>\n",
       "</div>"
      ],
      "text/plain": [
       "   host_verifications     count\n",
       "0               phone  0.212703\n",
       "1               email  0.207934\n",
       "2             reviews  0.199125\n",
       "3            facebook  0.108175\n",
       "4                 kba  0.101891\n",
       "5               jumio  0.072322\n",
       "6            linkedin  0.049992\n",
       "7              google  0.041800\n",
       "8      manual_offline  0.002918\n",
       "9                amex  0.001403\n",
       "10      manual_online  0.000729\n",
       "11            sent_id  0.000505\n",
       "12              weibo  0.000281\n",
       "13       photographer  0.000224"
      ]
     },
     "execution_count": 9,
     "metadata": {},
     "output_type": "execute_result"
    }
   ],
   "source": [
    "clean_and_plot(df)"
   ]
  },
  {
   "attachments": {},
   "cell_type": "markdown",
   "metadata": {},
   "source": [
    "The top 3 prevalent methods of verification in Seattle listings, as seen in the graph and table above, are:\n",
    "- Phone:            21.27%\n",
    "- Email:            20.79%\n",
    "- Reviews:          19.91%\n",
    "\n",
    "The least common methods of verification applied to ads in Seattle include:\n",
    "- manual_offline:   2.91%\n",
    "- amex:             1.4%\n",
    "- manual_online:    0.07%\n",
    "- sent_id:          0.05%\n",
    "- weibo:            0.028%\n",
    "- photographer:     0.022%"
   ]
  },
  {
   "attachments": {},
   "cell_type": "markdown",
   "metadata": {},
   "source": [
    "# **Question 2: What characteristics of various kinds draw visitors to book a homestay?**\n",
    "\n",
    "I see that certain properties, such property_type or room_type, have distinct columns when I look at the dataset. I was intrigued how these elements influence travelers who choose to rent a homestay.\n",
    "\n",
    "In this question, we'll look at how desirable features are to visitors based on the availability column.\n",
    "This suggests that when a feature gets more publicly accessible, visitor interest in it declines."
   ]
  },
  {
   "cell_type": "markdown",
   "metadata": {},
   "source": [
    "## Prepare Data"
   ]
  },
  {
   "cell_type": "code",
   "execution_count": 10,
   "metadata": {},
   "outputs": [],
   "source": [
    "# The code below produces the availability_30 column's popularity_30 column, which provides information on the booking percentage for the following 30 days.\n",
    "df['popularity_30'] = 1 - (df['availability_30']/30)"
   ]
  },
  {
   "cell_type": "code",
   "execution_count": 11,
   "metadata": {},
   "outputs": [
    {
     "data": {
      "text/plain": [
       "['property_type', 'room_type', 'bed_type']"
      ]
     },
     "execution_count": 11,
     "metadata": {},
     "output_type": "execute_result"
    }
   ],
   "source": [
    "# Get features that have seperated columns \n",
    "feature_type_list = [feature for feature in df.columns if 'type' in feature]\n",
    "feature_type_list"
   ]
  },
  {
   "cell_type": "markdown",
   "metadata": {},
   "source": [
    "## Analyze and Visualize Data"
   ]
  },
  {
   "cell_type": "code",
   "execution_count": 12,
   "metadata": {},
   "outputs": [
    {
     "data": {
      "text/plain": [
       "House              1733\n",
       "Apartment          1708\n",
       "Townhouse           118\n",
       "Condominium          91\n",
       "Loft                 40\n",
       "Bed & Breakfast      37\n",
       "Other                22\n",
       "Cabin                21\n",
       "Camper/RV            13\n",
       "Bungalow             13\n",
       "Boat                  8\n",
       "Tent                  5\n",
       "Treehouse             3\n",
       "Dorm                  2\n",
       "Chalet                2\n",
       "Yurt                  1\n",
       "Name: property_type, dtype: int64"
      ]
     },
     "execution_count": 12,
     "metadata": {},
     "output_type": "execute_result"
    }
   ],
   "source": [
    "# Unique property types and count of each one\n",
    "df['property_type'].value_counts().sort_values(ascending=False)"
   ]
  },
  {
   "attachments": {},
   "cell_type": "markdown",
   "metadata": {},
   "source": [
    "We can see that in Seattle, homes and apartments make up more over half of the total number of properties."
   ]
  },
  {
   "cell_type": "code",
   "execution_count": 14,
   "metadata": {},
   "outputs": [
    {
     "data": {
      "text/plain": [
       "property_type\n",
       "Tent               0.800000\n",
       "Dorm               0.666667\n",
       "Treehouse          0.666667\n",
       "Chalet             0.500000\n",
       "Cabin              0.469841\n",
       "Apartment          0.456011\n",
       "Condominium        0.454579\n",
       "Loft               0.435000\n",
       "House              0.432583\n",
       "Townhouse          0.413559\n",
       "Camper/RV          0.410256\n",
       "Other              0.301515\n",
       "Bed & Breakfast    0.257658\n",
       "Boat               0.250000\n",
       "Bungalow           0.215385\n",
       "Yurt               0.066667\n",
       "Name: popularity_30, dtype: float64"
      ]
     },
     "execution_count": 14,
     "metadata": {},
     "output_type": "execute_result"
    }
   ],
   "source": [
    "# Popularity of different property types for next 30 days\n",
    "property_type_popularity = df.groupby(['property_type']).mean()['popularity_30']\n",
    "property_type_popularity = property_type_popularity.sort_values(ascending=False)\n",
    "property_type_popularity"
   ]
  },
  {
   "cell_type": "code",
   "execution_count": 15,
   "metadata": {},
   "outputs": [
    {
     "data": {
      "image/png": "[encoded data removed]",
      "text/plain": [
       "<Figure size 720x720 with 1 Axes>"
      ]
     },
     "metadata": {
      "needs_background": "light"
     },
     "output_type": "display_data"
    }
   ],
   "source": [
    "# The code below plots the popularity of different property types for next 30 days\n",
    "property_type_popularity.plot(kind='bar', legend=None, figsize=(10, 10))\n",
    "plt.title('The Popularity of property type for next 30 Days');\n",
    "plt.show()"
   ]
  },
  {
   "attachments": {},
   "cell_type": "markdown",
   "metadata": {},
   "source": [
    "According to the chart above, a homestay will get more visitors if it contains tents, a dorm, or a treehouse."
   ]
  },
  {
   "cell_type": "code",
   "execution_count": 16,
   "metadata": {},
   "outputs": [
    {
     "data": {
      "text/plain": [
       "Entire home/apt    2541\n",
       "Private room       1160\n",
       "Shared room         117\n",
       "Name: room_type, dtype: int64"
      ]
     },
     "execution_count": 16,
     "metadata": {},
     "output_type": "execute_result"
    }
   ],
   "source": [
    "# Unique room types and count of each one\n",
    "df['room_type'].value_counts().sort_values(ascending=False)"
   ]
  },
  {
   "attachments": {},
   "cell_type": "markdown",
   "metadata": {},
   "source": [
    "We can tell that most visitors select a private room or a whole apartment."
   ]
  },
  {
   "cell_type": "code",
   "execution_count": 17,
   "metadata": {},
   "outputs": [
    {
     "data": {
      "text/plain": [
       "room_type\n",
       "Entire home/apt    0.483353\n",
       "Private room       0.362759\n",
       "Shared room        0.279202\n",
       "Name: popularity_30, dtype: float64"
      ]
     },
     "execution_count": 17,
     "metadata": {},
     "output_type": "execute_result"
    }
   ],
   "source": [
    "# Popularity of different room types for next 30 days\n",
    "room_type_popularity = df.groupby(['room_type']).mean()['popularity_30']\n",
    "room_type_popularity = room_type_popularity.sort_values(ascending=False)\n",
    "room_type_popularity"
   ]
  },
  {
   "cell_type": "code",
   "execution_count": 18,
   "metadata": {},
   "outputs": [
    {
     "data": {
      "image/png": "[encoded data removed]",
      "text/plain": [
       "<Figure size 720x720 with 1 Axes>"
      ]
     },
     "metadata": {
      "needs_background": "light"
     },
     "output_type": "display_data"
    }
   ],
   "source": [
    "# The code below plots the popularity of different room types for next 30 days\n",
    "room_type_popularity.plot(kind='bar', legend=None, figsize=(10, 10))\n",
    "plt.title('The Popularity of room_type for Next 30 Days');\n",
    "plt.show()"
   ]
  },
  {
   "attachments": {},
   "cell_type": "markdown",
   "metadata": {},
   "source": [
    "According to the aforementioned figure, individual rooms or shared rooms are less common than complete homes or apartments by around 10%."
   ]
  },
  {
   "cell_type": "code",
   "execution_count": 19,
   "metadata": {},
   "outputs": [
    {
     "data": {
      "text/plain": [
       "Real Bed         3657\n",
       "Futon              74\n",
       "Pull-out Sofa      47\n",
       "Airbed             27\n",
       "Couch              13\n",
       "Name: bed_type, dtype: int64"
      ]
     },
     "execution_count": 19,
     "metadata": {},
     "output_type": "execute_result"
    }
   ],
   "source": [
    "# Unique bed types and count of each one\n",
    "df['bed_type'].value_counts().sort_values(ascending=False)"
   ]
  },
  {
   "attachments": {},
   "cell_type": "markdown",
   "metadata": {},
   "source": [
    "When renting a homestay, it is clear that most visitors choose for Real Bed."
   ]
  },
  {
   "cell_type": "code",
   "execution_count": 20,
   "metadata": {},
   "outputs": [
    {
     "data": {
      "text/plain": [
       "bed_type\n",
       "Couch            0.579487\n",
       "Futon            0.451351\n",
       "Real Bed         0.441564\n",
       "Airbed           0.419753\n",
       "Pull-out Sofa    0.310638\n",
       "Name: popularity_30, dtype: float64"
      ]
     },
     "execution_count": 20,
     "metadata": {},
     "output_type": "execute_result"
    }
   ],
   "source": [
    "# Popularity of different room types for next 30 days\n",
    "bed_type_popularity = df.groupby(['bed_type']).mean()['popularity_30']\n",
    "bed_type_popularity = bed_type_popularity.sort_values(ascending=False)\n",
    "bed_type_popularity"
   ]
  },
  {
   "cell_type": "code",
   "execution_count": 21,
   "metadata": {},
   "outputs": [
    {
     "data": {
      "image/png": "[encoded data removed]",
      "text/plain": [
       "<Figure size 720x720 with 1 Axes>"
      ]
     },
     "metadata": {
      "needs_background": "light"
     },
     "output_type": "display_data"
    }
   ],
   "source": [
    "# The code below plots the popularity of different bed types for next 30 days\n",
    "bed_type_popularity.plot(kind='bar', legend=None, figsize=(10, 10))\n",
    "plt.title('The Popularity of bed_type for Next 30 Days');\n",
    "plt.show()"
   ]
  },
  {
   "attachments": {},
   "cell_type": "markdown",
   "metadata": {},
   "source": [
    "According to the chart above, the homestay will draw more visitors than the others if it has a couch, a futon, or a genuine bed.\n",
    "\n",
    "In conclusion, a desirable homestay should be a whole house or apartment with a sofa or at the very least a genuine bed, tents, a treehouse, or a dorm room."
   ]
  },
  {
   "attachments": {},
   "cell_type": "markdown",
   "metadata": {},
   "source": [
    "# **Question 3: What factors have the biggest impact on the cost of homestays in Seattle?**"
   ]
  },
  {
   "cell_type": "markdown",
   "metadata": {},
   "source": [
    "## Prepare Data"
   ]
  },
  {
   "attachments": {},
   "cell_type": "markdown",
   "metadata": {},
   "source": [
    "The dataset contains five distinct sorts of pricing:\n",
    "- price\n",
    "- weekly_price\n",
    "- monthly_price\n",
    "- security_deposit\n",
    "- cleaning_fee"
   ]
  },
  {
   "cell_type": "code",
   "execution_count": 23,
   "metadata": {},
   "outputs": [
    {
     "name": "stdout",
     "output_type": "stream",
     "text": [
      "Missing values in price: 0\n",
      "Missing values in weekly_price: 1809\n",
      "Missing values in monthly_price: 2301\n",
      "Missing values in security_deposit: 1952\n",
      "Missing values in cleaning_fee: 1030\n"
     ]
    }
   ],
   "source": [
    "# Create list of different types of prices in the dataset\n",
    "price_list = ['price', 'weekly_price', 'monthly_price', 'security_deposit', 'cleaning_fee']\n",
    "\n",
    "# Print the number of missing values in each of the price type\n",
    "for price_type in price_list:\n",
    "    print('Missing values in {0}: {1}'.format(price_type, df[price_type].isnull().sum()))"
   ]
  },
  {
   "attachments": {},
   "cell_type": "markdown",
   "metadata": {},
   "source": [
    "One can notice that some of the ads in the cell code above do not include the weekly price, monthly price, security_deposit, or cleaning_fee. As a result of the bigger sample size, it is better to use the pricing feature."
   ]
  },
  {
   "cell_type": "code",
   "execution_count": 24,
   "metadata": {},
   "outputs": [
    {
     "data": {
      "text/plain": [
       "(3818, 8)"
      ]
     },
     "execution_count": 24,
     "metadata": {},
     "output_type": "execute_result"
    }
   ],
   "source": [
    "'''\n",
    "I created a new dataframe in the code below based on a list of attributes \n",
    "I believed are crucial for determining a Seattle listing's pricing.\n",
    "'''\n",
    "df_new = df[['property_type', 'room_type', 'bed_type', 'accommodates', 'bathrooms', 'bedrooms', 'beds', 'price']]\n",
    "df_new.shape"
   ]
  },
  {
   "cell_type": "code",
   "execution_count": 25,
   "metadata": {},
   "outputs": [
    {
     "data": {
      "text/plain": [
       "property_type     1\n",
       "bathrooms        16\n",
       "bedrooms          6\n",
       "beds              1\n",
       "dtype: int64"
      ]
     },
     "execution_count": 25,
     "metadata": {},
     "output_type": "execute_result"
    }
   ],
   "source": [
    "# Check missing values in each feature column\n",
    "df_new.isnull().sum()[df_new.isnull().sum()>0]"
   ]
  },
  {
   "attachments": {},
   "cell_type": "markdown",
   "metadata": {},
   "source": [
    "Eight columns make up the new dataframe, and half of them are missing values. However, I have a plan to complete these columns:\n",
    "- Because property_type is a categorical column, I'll utilize its mode to fill in the very few missing values.\n",
    "- There aren't many missing numbers for beds, bathrooms, or bedrooms, so I'll use the mean of each column to fill in the gaps."
   ]
  },
  {
   "cell_type": "code",
   "execution_count": 26,
   "metadata": {},
   "outputs": [],
   "source": [
    "# Elimate these symbols from the price values: \"$\", \",\"\n",
    "def process_price(txt):\n",
    "    '''\n",
    "    Function that removes special symbols from price values\n",
    "    INPUT:\n",
    "    txt - a string of price value that has \"$\", \",\" symbols\n",
    "    \n",
    "    OUTPUT:\n",
    "    txt - a string of price value after elimating \"$\", \",\" symbols\n",
    "    '''\n",
    "    txt, _ = re.subn('[$|,]', '', txt)\n",
    "    return txt"
   ]
  },
  {
   "cell_type": "code",
   "execution_count": 27,
   "metadata": {},
   "outputs": [
    {
     "name": "stderr",
     "output_type": "stream",
     "text": [
      "C:\\Users\\Neo\\AppData\\Local\\Temp\\ipykernel_17144\\10361177.py:2: SettingWithCopyWarning: \n",
      "A value is trying to be set on a copy of a slice from a DataFrame.\n",
      "Try using .loc[row_indexer,col_indexer] = value instead\n",
      "\n",
      "See the caveats in the documentation: https://pandas.pydata.org/pandas-docs/stable/user_guide/indexing.html#returning-a-view-versus-a-copy\n",
      "  df_new['price'] = df_new['price'].apply(lambda x: process_price(x)).astype(float)\n"
     ]
    }
   ],
   "source": [
    "# Apply the function and change the price data type from string to float\n",
    "df_new['price'] = df_new['price'].apply(lambda x: process_price(x)).astype(float)"
   ]
  },
  {
   "cell_type": "code",
   "execution_count": 28,
   "metadata": {},
   "outputs": [
    {
     "data": {
      "text/plain": [
       "['property_type', 'room_type', 'bed_type']"
      ]
     },
     "execution_count": 28,
     "metadata": {},
     "output_type": "execute_result"
    }
   ],
   "source": [
    "# Create a list categorical columns from the new dataframe\n",
    "cat_columns = list(df_new.select_dtypes(include=['object']).columns)\n",
    "cat_columns"
   ]
  },
  {
   "cell_type": "markdown",
   "metadata": {},
   "source": [
    "## Model Data and Evaluation Results"
   ]
  },
  {
   "cell_type": "code",
   "execution_count": 31,
   "metadata": {},
   "outputs": [],
   "source": [
    "'''\n",
    "This function I took from Notebook + Quiz: Categorical Variables in Introduction to Datascience in Udacity Data Scientist Course and I have\n",
    "modified it a little bit to properly use in this project\n",
    "'''\n",
    "\n",
    "def create_dummy_df(df, cat_cols, dummy_na):\n",
    "    '''\n",
    "    INPUT:\n",
    "    df - pandas dataframe with categorical variables you want to dummy\n",
    "    cat_cols - list of strings that are associated with names of the categorical columns\n",
    "    dummy_na - Bool holding whether you want to dummy NA vals of categorical columns or not\n",
    "    \n",
    "    OUTPUT:\n",
    "    df - a new dataframe that has the following characteristics:\n",
    "            1. contains all columns that were not specified as categorical\n",
    "            2. removes all the original columns in cat_cols\n",
    "            3. dummy columns for each of the categorical columns in cat_cols\n",
    "            4. if dummy_na is True - it also contains dummy columns for the NaN values\n",
    "            5. Use a prefix of the column name with an underscore (_) for separating \n",
    "    '''\n",
    "    # The lines of code below makes new columns from categorical variables \n",
    "    # in order to use these features in machine learning regression algorithm.\n",
    "    for col in cat_cols:\n",
    "        try:\n",
    "            # for each cat add dummy var, drop original column\n",
    "            df = pd.concat([df.drop(col, axis=1), pd.get_dummies(df[col], prefix=col, prefix_sep='_', drop_first=True, dummy_na=dummy_na)], axis=1)\n",
    "        except Exception:\n",
    "            continue\n",
    "    return df"
   ]
  },
  {
   "cell_type": "code",
   "execution_count": 32,
   "metadata": {},
   "outputs": [],
   "source": [
    "'''\n",
    "This function I took from Notebook + Quiz: Categorical Variables in Introduction to Datascience in Udacity Data Scientist Course and I have\n",
    "modified it a little bit to properly use in this project\n",
    "'''\n",
    "\n",
    "def clean_fit_linear_mod(df, response_col, cat_cols, dummy_na, test_size=.3, rand_state=42):\n",
    "    '''\n",
    "    INPUT:\n",
    "    df - a dataframe holding all the variables of interest\n",
    "    response_col - a string holding the name of the column \n",
    "    cat_cols - list of strings that are associated with names of the categorical columns\n",
    "    dummy_na - Bool holding whether you want to dummy NA vals of categorical columns or not\n",
    "    test_size - a float between [0,1] about what proportion of data should be in the test dataset\n",
    "    rand_state - an int that is provided as the random state for splitting the data into training and test \n",
    "    \n",
    "    OUTPUT:\n",
    "    test_score - float - r2 score on the test data\n",
    "    train_score - float - r2 score on the test data\n",
    "    lm_model - model object from sklearn\n",
    "    X_train, X_test, y_train, y_test - output from sklearn train test split used for optimal model\n",
    "    \n",
    "    The function should:\n",
    "    1. Drop the rows with missing response values\n",
    "    2. Drop columns with NaN for all the values\n",
    "    3. Use create_dummy_df to dummy categorical columns\n",
    "    4. Fill the mean of the column for any missing values \n",
    "    5. Split your data into an X matrix and a response vector y\n",
    "    6. Create training and test sets of data\n",
    "    7. Instantiate a LinearRegression model with normalized data\n",
    "    8. Fit your model to the training data\n",
    "    9. Predict the response for the training data and the test data\n",
    "    10. Obtain an rsquared value for both the training and test data\n",
    "    '''\n",
    "    # Drop the rows with missing response values\n",
    "    df  = df.dropna(subset=[response_col], axis=0)\n",
    "\n",
    "    # Drop columns with all NaN values\n",
    "    df = df.dropna(how='all', axis=1)\n",
    "\n",
    "    # Dummy categorical variables\n",
    "    df = create_dummy_df(df, cat_cols, dummy_na)\n",
    "\n",
    "    # Mean function\n",
    "    fill_mean = lambda col: col.fillna(col.mean())\n",
    "    # Fill the mean\n",
    "    df = df.apply(fill_mean, axis=0)\n",
    "\n",
    "    # Split into explanatory and response variables\n",
    "    X = df.drop(response_col, axis=1)\n",
    "    y = df[response_col]\n",
    "\n",
    "    # Split into train and test with the ratio 70/30\n",
    "    X_train, X_test, y_train, y_test = train_test_split(X, y, test_size=test_size, random_state=rand_state)\n",
    "    \n",
    "    # Apply the linear regression model\n",
    "    lm_model = LinearRegression(normalize=True)\n",
    "    \n",
    "    # Fit the model to the train dataset\n",
    "    lm_model.fit(X_train, y_train)\n",
    "\n",
    "    # Predict using your model\n",
    "    y_test_preds = lm_model.predict(X_test)\n",
    "    y_train_preds = lm_model.predict(X_train)\n",
    "\n",
    "    # Score using your model\n",
    "    test_score = r2_score(y_test, y_test_preds)\n",
    "    train_score = r2_score(y_train, y_train_preds)\n",
    "\n",
    "    return test_score, train_score, lm_model, X_train, X_test, y_train, y_test"
   ]
  },
  {
   "cell_type": "code",
   "execution_count": 33,
   "metadata": {},
   "outputs": [
    {
     "name": "stderr",
     "output_type": "stream",
     "text": [
      "c:\\KhoiNXM\\Workspace\\python_venv\\ai_chatbot\\lib\\site-packages\\sklearn\\linear_model\\_base.py:141: FutureWarning: 'normalize' was deprecated in version 1.0 and will be removed in 1.2.\n",
      "If you wish to scale the data, use Pipeline with a StandardScaler in a preprocessing stage. To reproduce the previous behavior:\n",
      "\n",
      "from sklearn.pipeline import make_pipeline\n",
      "\n",
      "model = make_pipeline(StandardScaler(with_mean=False), LinearRegression())\n",
      "\n",
      "If you wish to pass a sample_weight parameter, you need to pass it as a fit parameter to each step of the pipeline as follows:\n",
      "\n",
      "kwargs = {s[0] + '__sample_weight': sample_weight for s in model.steps}\n",
      "model.fit(X, y, **kwargs)\n",
      "\n",
      "\n",
      "  warnings.warn(\n"
     ]
    }
   ],
   "source": [
    "test_score, train_score, lm_model, X_train, X_test, y_train, y_test = clean_fit_linear_mod(df_new, 'price', cat_columns, dummy_na=False)"
   ]
  },
  {
   "cell_type": "code",
   "execution_count": 36,
   "metadata": {},
   "outputs": [
    {
     "name": "stdout",
     "output_type": "stream",
     "text": [
      " The rsquared on the training dataset: 0.5269091529139549\n",
      " The rsquared on the test dataset: 0.5591501319950756.\n"
     ]
    }
   ],
   "source": [
    "print(\" The rsquared on the training dataset: {}\\n The rsquared on the test dataset: {}.\".format(train_score, test_score))"
   ]
  },
  {
   "cell_type": "code",
   "execution_count": 37,
   "metadata": {},
   "outputs": [],
   "source": [
    "'''\n",
    "This function I took from Notebook + Quiz: Putting It All Together in Introduction to Datascience in Udacity Data Scientist Course and I have\n",
    "modified it a little bit to properly use in this project. This function is used to see the coefficients of the model\n",
    "'''\n",
    "\n",
    "def coef_weights(coefficients, X_train):\n",
    "    '''\n",
    "    INPUT:\n",
    "    coefficients - the coefficients of the linear model \n",
    "    X_train - the training data, so the column names can be used\n",
    "    OUTPUT:\n",
    "    coefs_df - a dataframe holding the coefficient, estimate, and abs(estimate)\n",
    "    \n",
    "    Provides a dataframe that can be used to understand the most influential coefficients\n",
    "    in a linear model by providing the coefficient estimates along with the name of the \n",
    "    variable attached to the coefficient.\n",
    "    '''\n",
    "    coefs_df = pd.DataFrame()\n",
    "    coefs_df['est_int'] = X_train.columns\n",
    "    coefs_df['coefs'] = lm_model.coef_\n",
    "    coefs_df['abs_coefs'] = np.abs(lm_model.coef_)\n",
    "    coefs_df = coefs_df.sort_values('abs_coefs', ascending=False)\n",
    "    return coefs_df"
   ]
  },
  {
   "cell_type": "code",
   "execution_count": 38,
   "metadata": {},
   "outputs": [
    {
     "data": {
      "text/html": [
       "<div>\n",
       "<style scoped>\n",
       "    .dataframe tbody tr th:only-of-type {\n",
       "        vertical-align: middle;\n",
       "    }\n",
       "\n",
       "    .dataframe tbody tr th {\n",
       "        vertical-align: top;\n",
       "    }\n",
       "\n",
       "    .dataframe thead th {\n",
       "        text-align: right;\n",
       "    }\n",
       "</style>\n",
       "<table border=\"1\" class=\"dataframe\">\n",
       "  <thead>\n",
       "    <tr style=\"text-align: right;\">\n",
       "      <th></th>\n",
       "      <th>est_int</th>\n",
       "      <th>coefs</th>\n",
       "      <th>abs_coefs</th>\n",
       "    </tr>\n",
       "  </thead>\n",
       "  <tbody>\n",
       "    <tr>\n",
       "      <th>0</th>\n",
       "      <td>property_type_Boat</td>\n",
       "      <td>135.991849</td>\n",
       "      <td>135.991849</td>\n",
       "    </tr>\n",
       "    <tr>\n",
       "      <th>1</th>\n",
       "      <td>room_type_Shared room</td>\n",
       "      <td>-62.365397</td>\n",
       "      <td>62.365397</td>\n",
       "    </tr>\n",
       "    <tr>\n",
       "      <th>2</th>\n",
       "      <td>property_type_Camper/RV</td>\n",
       "      <td>58.727952</td>\n",
       "      <td>58.727952</td>\n",
       "    </tr>\n",
       "    <tr>\n",
       "      <th>3</th>\n",
       "      <td>property_type_Dorm</td>\n",
       "      <td>-42.367606</td>\n",
       "      <td>42.367606</td>\n",
       "    </tr>\n",
       "    <tr>\n",
       "      <th>4</th>\n",
       "      <td>property_type_Tent</td>\n",
       "      <td>-38.403647</td>\n",
       "      <td>38.403647</td>\n",
       "    </tr>\n",
       "    <tr>\n",
       "      <th>5</th>\n",
       "      <td>room_type_Private room</td>\n",
       "      <td>-36.983398</td>\n",
       "      <td>36.983398</td>\n",
       "    </tr>\n",
       "    <tr>\n",
       "      <th>6</th>\n",
       "      <td>bathrooms</td>\n",
       "      <td>33.289887</td>\n",
       "      <td>33.289887</td>\n",
       "    </tr>\n",
       "    <tr>\n",
       "      <th>7</th>\n",
       "      <td>bedrooms</td>\n",
       "      <td>29.028951</td>\n",
       "      <td>29.028951</td>\n",
       "    </tr>\n",
       "    <tr>\n",
       "      <th>8</th>\n",
       "      <td>property_type_Treehouse</td>\n",
       "      <td>24.357420</td>\n",
       "      <td>24.357420</td>\n",
       "    </tr>\n",
       "    <tr>\n",
       "      <th>9</th>\n",
       "      <td>property_type_Loft</td>\n",
       "      <td>21.634089</td>\n",
       "      <td>21.634089</td>\n",
       "    </tr>\n",
       "    <tr>\n",
       "      <th>10</th>\n",
       "      <td>property_type_Condominium</td>\n",
       "      <td>19.263422</td>\n",
       "      <td>19.263422</td>\n",
       "    </tr>\n",
       "    <tr>\n",
       "      <th>11</th>\n",
       "      <td>property_type_Chalet</td>\n",
       "      <td>-13.426381</td>\n",
       "      <td>13.426381</td>\n",
       "    </tr>\n",
       "    <tr>\n",
       "      <th>12</th>\n",
       "      <td>property_type_House</td>\n",
       "      <td>-11.965348</td>\n",
       "      <td>11.965348</td>\n",
       "    </tr>\n",
       "    <tr>\n",
       "      <th>13</th>\n",
       "      <td>accommodates</td>\n",
       "      <td>10.803601</td>\n",
       "      <td>10.803601</td>\n",
       "    </tr>\n",
       "    <tr>\n",
       "      <th>14</th>\n",
       "      <td>property_type_Townhouse</td>\n",
       "      <td>-10.184405</td>\n",
       "      <td>10.184405</td>\n",
       "    </tr>\n",
       "    <tr>\n",
       "      <th>15</th>\n",
       "      <td>property_type_Cabin</td>\n",
       "      <td>-9.508587</td>\n",
       "      <td>9.508587</td>\n",
       "    </tr>\n",
       "    <tr>\n",
       "      <th>16</th>\n",
       "      <td>bed_type_Futon</td>\n",
       "      <td>-7.164489</td>\n",
       "      <td>7.164489</td>\n",
       "    </tr>\n",
       "    <tr>\n",
       "      <th>17</th>\n",
       "      <td>bed_type_Pull-out Sofa</td>\n",
       "      <td>-6.530247</td>\n",
       "      <td>6.530247</td>\n",
       "    </tr>\n",
       "    <tr>\n",
       "      <th>18</th>\n",
       "      <td>property_type_Other</td>\n",
       "      <td>-5.868967</td>\n",
       "      <td>5.868967</td>\n",
       "    </tr>\n",
       "    <tr>\n",
       "      <th>19</th>\n",
       "      <td>property_type_Yurt</td>\n",
       "      <td>4.131713</td>\n",
       "      <td>4.131713</td>\n",
       "    </tr>\n",
       "    <tr>\n",
       "      <th>20</th>\n",
       "      <td>bed_type_Real Bed</td>\n",
       "      <td>-3.484474</td>\n",
       "      <td>3.484474</td>\n",
       "    </tr>\n",
       "    <tr>\n",
       "      <th>21</th>\n",
       "      <td>property_type_Bungalow</td>\n",
       "      <td>2.092407</td>\n",
       "      <td>2.092407</td>\n",
       "    </tr>\n",
       "    <tr>\n",
       "      <th>22</th>\n",
       "      <td>bed_type_Couch</td>\n",
       "      <td>1.766364</td>\n",
       "      <td>1.766364</td>\n",
       "    </tr>\n",
       "    <tr>\n",
       "      <th>23</th>\n",
       "      <td>property_type_Bed &amp; Breakfast</td>\n",
       "      <td>0.684873</td>\n",
       "      <td>0.684873</td>\n",
       "    </tr>\n",
       "    <tr>\n",
       "      <th>24</th>\n",
       "      <td>beds</td>\n",
       "      <td>-0.482059</td>\n",
       "      <td>0.482059</td>\n",
       "    </tr>\n",
       "  </tbody>\n",
       "</table>\n",
       "</div>"
      ],
      "text/plain": [
       "                          est_int       coefs   abs_coefs\n",
       "0              property_type_Boat  135.991849  135.991849\n",
       "1           room_type_Shared room  -62.365397   62.365397\n",
       "2         property_type_Camper/RV   58.727952   58.727952\n",
       "3              property_type_Dorm  -42.367606   42.367606\n",
       "4              property_type_Tent  -38.403647   38.403647\n",
       "5          room_type_Private room  -36.983398   36.983398\n",
       "6                       bathrooms   33.289887   33.289887\n",
       "7                        bedrooms   29.028951   29.028951\n",
       "8         property_type_Treehouse   24.357420   24.357420\n",
       "9              property_type_Loft   21.634089   21.634089\n",
       "10      property_type_Condominium   19.263422   19.263422\n",
       "11           property_type_Chalet  -13.426381   13.426381\n",
       "12            property_type_House  -11.965348   11.965348\n",
       "13                   accommodates   10.803601   10.803601\n",
       "14        property_type_Townhouse  -10.184405   10.184405\n",
       "15            property_type_Cabin   -9.508587    9.508587\n",
       "16                 bed_type_Futon   -7.164489    7.164489\n",
       "17         bed_type_Pull-out Sofa   -6.530247    6.530247\n",
       "18            property_type_Other   -5.868967    5.868967\n",
       "19             property_type_Yurt    4.131713    4.131713\n",
       "20              bed_type_Real Bed   -3.484474    3.484474\n",
       "21         property_type_Bungalow    2.092407    2.092407\n",
       "22                 bed_type_Couch    1.766364    1.766364\n",
       "23  property_type_Bed & Breakfast    0.684873    0.684873\n",
       "24                           beds   -0.482059    0.482059"
      ]
     },
     "execution_count": 38,
     "metadata": {},
     "output_type": "execute_result"
    }
   ],
   "source": [
    "# Coefficients of the model.\n",
    "coef_df = coef_weights(lm_model.coef_, X_train).reset_index(drop=True)\n",
    "coef_df"
   ]
  },
  {
   "attachments": {},
   "cell_type": "markdown",
   "metadata": {},
   "source": [
    "We may observe from the table above that:\n",
    "\n",
    "- Boat property tends to have the greatest impact on the cost of a homestay.\n",
    "\n",
    "- The price of a homestay is somewhat influenced by the number of bathrooms and bedrooms.\n",
    "\n",
    "- When renting a homestay, people are unlikely to share a room with others, which would negatively impact the cost of a homestay.\n"
   ]
  },
  {
   "attachments": {},
   "cell_type": "markdown",
   "metadata": {},
   "source": [
    "# Conclusion\n",
    "\n",
    "In conclusion, the three questions are answered as follows:\n",
    "1. The most popular ways for hosts to respond to their guests are through phone, email, and reviews.\n",
    "2. A desirable homestay should be a whole house or apartment with a sofa or at the very least a genuine bed, as opposed to tents, a treehouse, or a hostel.\n",
    "3. The price of a homestay is most significantly influenced by the presence of boats, bathrooms, and bedrooms."
   ]
  },
  {
   "cell_type": "code",
   "execution_count": null,
   "metadata": {},
   "outputs": [],
   "source": []
  }
 ],
 "metadata": {
  "interpreter": {
   "hash": "a8bbfe363a174139f266f6a48831d2194d4666d4cbc9b74b0149dc3b88d07607"
  },
  "kernelspec": {
   "display_name": "Python 3.7.8 ('udacity')",
   "language": "python",
   "name": "python3"
  },
  "language_info": {
   "codemirror_mode": {
    "name": "ipython",
    "version": 3
   },
   "file_extension": ".py",
   "mimetype": "text/x-python",
   "name": "python",
   "nbconvert_exporter": "python",
   "pygments_lexer": "ipython3",
   "version": "3.9.12"
  },
  "orig_nbformat": 4
 },
 "nbformat": 4,
 "nbformat_minor": 2
}
